{
 "cells": [
  {
   "cell_type": "code",
   "execution_count": 1,
   "metadata": {},
   "outputs": [],
   "source": [
    "import matplotlib.pyplot as plt\n",
    "import numpy as np\n",
    "import ipywidgets as widgets\n",
    "from IPython.display import display"
   ]
  },
  {
   "cell_type": "code",
   "execution_count": 2,
   "metadata": {},
   "outputs": [
    {
     "data": {
      "application/vnd.jupyter.widget-view+json": {
       "model_id": "152677c88916408da49447e289fc05b5",
       "version_major": 2,
       "version_minor": 0
      },
      "text/plain": [
       "interactive(children=(Text(value='r * x * (1 - x)', description='Function:', placeholder='Enter a function wit…"
      ]
     },
     "metadata": {},
     "output_type": "display_data"
    }
   ],
   "source": [
    "def cobweb(f, x_0, r, func, depth, N = 25):\n",
    "    # initialize the points with the first step at IC\n",
    "    pts = np.zeros((2*N+1, 2))\n",
    "    pts[0, :] = [x_0, 0]\n",
    "    fx = x_0\n",
    "    for i in np.arange(N):\n",
    "        x = fx\n",
    "        for j in np.arange(depth):\n",
    "            fx = f(fx, r, func)\n",
    "        pts[2*i+1, :] = [x, fx]\n",
    "        pts[2*i+2, :] = [fx, fx]\n",
    "\n",
    "    x = [point[0] for point in pts]\n",
    "    y = [point[1] for point in pts]\n",
    "\n",
    "    return x, y\n",
    "\n",
    "def is_valid_expression(expr: str) -> bool:\n",
    "    # Allowed these chars only\n",
    "    allowed_chars = set(\"0123456789xr+-*/(). \")\n",
    "    for char in expr:\n",
    "        if char not in allowed_chars:\n",
    "            return False\n",
    "    return True\n",
    "\n",
    "# oh boy this is scary as shit\n",
    "def f(x, r, str):\n",
    "    if not is_valid_expression(str):\n",
    "        raise ValueError(\"Invalid expression!\")\n",
    "    return eval(str)\n",
    "\n",
    "def interactiveCobweb(func, depth, r, x0, iter):\n",
    "    x = np.linspace(0, 1, 100)\n",
    "    y = np.linspace(0, 1, 100)\n",
    "    \n",
    "    for i in np.arange(depth):\n",
    "        y = f(y, r, func)\n",
    "    fig, ax = plt.subplots()\n",
    "\n",
    "    # plot f(x) and y=x\n",
    "    ax.plot(x, y)\n",
    "    ax.plot(x, x, linestyle = \"dashed\")\n",
    "    \n",
    "    xs, ys = cobweb(f, x0, r, func, depth, iter)\n",
    "    ax.plot(xs, ys)\n",
    "    plt.show()\n",
    "\n",
    "# Create sliders\n",
    "r_slider = widgets.FloatSlider(\n",
    "    value=2.0,\n",
    "    min=0,\n",
    "    max=4.0,\n",
    "    step=0.01,\n",
    "    description='r:',\n",
    "    continuous_update=True\n",
    ")\n",
    "\n",
    "x0_slider = widgets.FloatSlider(\n",
    "    value=0.5,\n",
    "    min=0,\n",
    "    max=1.0,\n",
    "    step=0.01,\n",
    "    description='x_0:',\n",
    "    continuous_update=True\n",
    ")\n",
    "\n",
    "depth_slider = widgets.IntSlider(\n",
    "    value=1.0,\n",
    "    min=1,\n",
    "    max=5.0,\n",
    "    step=1,\n",
    "    description='depth:',\n",
    "    continuous_update=True\n",
    ")\n",
    "\n",
    "iter_slider = widgets.IntSlider(\n",
    "    value=25.0,\n",
    "    min=1,\n",
    "    max=100.0,\n",
    "    step=1,\n",
    "    description='#iter:',\n",
    "    continuous_update=True\n",
    ")\n",
    "\n",
    "# Create a text input widget for the function\n",
    "expression_input = widgets.Text(\n",
    "    value='r * x * (1 - x)',\n",
    "    placeholder='Enter a function with variables x and r',\n",
    "    description='Function:',\n",
    ")\n",
    "\n",
    "cobweb_plot = widgets.interactive(interactiveCobweb, func = expression_input, depth = depth_slider, r = r_slider, x0 = x0_slider, iter = iter_slider)\n",
    "cobweb_plot.layout.height = '600px'\n",
    "display(cobweb_plot)\n"
   ]
  },
  {
   "cell_type": "code",
   "execution_count": null,
   "metadata": {},
   "outputs": [],
   "source": []
  }
 ],
 "metadata": {
  "kernelspec": {
   "display_name": "base",
   "language": "python",
   "name": "python3"
  },
  "language_info": {
   "codemirror_mode": {
    "name": "ipython",
    "version": 3
   },
   "file_extension": ".py",
   "mimetype": "text/x-python",
   "name": "python",
   "nbconvert_exporter": "python",
   "pygments_lexer": "ipython3",
   "version": "3.11.4"
  }
 },
 "nbformat": 4,
 "nbformat_minor": 2
}
